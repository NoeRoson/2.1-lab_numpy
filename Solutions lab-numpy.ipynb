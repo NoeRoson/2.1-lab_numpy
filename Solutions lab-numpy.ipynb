{
 "cells": [
  {
   "cell_type": "markdown",
   "id": "28966e9c",
   "metadata": {},
   "source": [
    "## 1. Import the NUMPY package under the name np."
   ]
  },
  {
   "cell_type": "code",
   "execution_count": 1,
   "id": "90320497",
   "metadata": {},
   "outputs": [],
   "source": [
    "import numpy as np"
   ]
  },
  {
   "cell_type": "markdown",
   "id": "f91589d4",
   "metadata": {},
   "source": [
    "## 2. Print the NUMPY version and the configuration."
   ]
  },
  {
   "cell_type": "code",
   "execution_count": 2,
   "id": "906ff1b4",
   "metadata": {},
   "outputs": [
    {
     "name": "stdout",
     "output_type": "stream",
     "text": [
      "Numpy version 1.24.3\n"
     ]
    }
   ],
   "source": [
    "print('Numpy version', np.__version__)"
   ]
  },
  {
   "cell_type": "markdown",
   "id": "dde91413",
   "metadata": {},
   "source": [
    "# 3. Generate a 2x3x5 3-dimensional array with random values. Assign the array to variable \"a\"\n",
    "# Challenge: there are at least three easy ways that use numpy to generate random arrays. How many ways can you find?\n"
   ]
  },
  {
   "cell_type": "code",
   "execution_count": 3,
   "id": "7100be4d",
   "metadata": {},
   "outputs": [],
   "source": [
    "a = np.random.random((2, 3, 5))  # Primera manera\n",
    "\n",
    "a = np.empty((2, 3 ,5))    # Segunda manera\n",
    "for i in range(2):\n",
    "    for x in range(3):\n",
    "        for y in range(5):\n",
    "            a[i, x, y] = np.random.rand()\n",
    "\n",
    "            \n",
    "a = np.random.random(2 * 3 * 5).reshape(2, 3, 5)   # Tercera manera"
   ]
  },
  {
   "cell_type": "markdown",
   "id": "64aecb9c",
   "metadata": {},
   "source": [
    "\n",
    "# 4. Print a."
   ]
  },
  {
   "cell_type": "code",
   "execution_count": 4,
   "id": "56b95089",
   "metadata": {},
   "outputs": [
    {
     "name": "stdout",
     "output_type": "stream",
     "text": [
      "[[[0.78754251 0.73500811 0.49297638 0.59210843 0.48785049]\n",
      "  [0.45336241 0.19366173 0.99133695 0.479313   0.35565686]\n",
      "  [0.65034137 0.16156531 0.02987792 0.06489909 0.8948922 ]]\n",
      "\n",
      " [[0.81447173 0.07809962 0.47053149 0.73259234 0.90151888]\n",
      "  [0.21957248 0.13851765 0.71197649 0.87938879 0.03038052]\n",
      "  [0.07135804 0.96312277 0.39457378 0.01484534 0.08212302]]]\n"
     ]
    }
   ],
   "source": [
    "print(a)\n"
   ]
  },
  {
   "cell_type": "markdown",
   "id": "5750da81",
   "metadata": {},
   "source": [
    "\n",
    "# 5. Create a 5x2x3 3-dimensional array with all values equaling 1.\n",
    "# Assign the array to variable \"b\""
   ]
  },
  {
   "cell_type": "code",
   "execution_count": 5,
   "id": "4956798c",
   "metadata": {},
   "outputs": [],
   "source": [
    "b = np.empty((5, 2 ,3))    \n",
    "for i in range(5):\n",
    "    for x in range(2):\n",
    "        for y in range(3):\n",
    "            b [i, x, y] = 1"
   ]
  },
  {
   "cell_type": "markdown",
   "id": "d66a063b",
   "metadata": {},
   "source": [
    "# 6. Print b."
   ]
  },
  {
   "cell_type": "code",
   "execution_count": 6,
   "id": "69b41d3c",
   "metadata": {},
   "outputs": [
    {
     "name": "stdout",
     "output_type": "stream",
     "text": [
      "[[[1. 1. 1.]\n",
      "  [1. 1. 1.]]\n",
      "\n",
      " [[1. 1. 1.]\n",
      "  [1. 1. 1.]]\n",
      "\n",
      " [[1. 1. 1.]\n",
      "  [1. 1. 1.]]\n",
      "\n",
      " [[1. 1. 1.]\n",
      "  [1. 1. 1.]]\n",
      "\n",
      " [[1. 1. 1.]\n",
      "  [1. 1. 1.]]]\n"
     ]
    }
   ],
   "source": [
    "print(b)"
   ]
  },
  {
   "cell_type": "markdown",
   "id": "c435d19f",
   "metadata": {},
   "source": [
    "\n",
    "# 7. Do a and b have the same size? How do you prove that in Python code?\n"
   ]
  },
  {
   "cell_type": "code",
   "execution_count": 7,
   "id": "701fd193",
   "metadata": {},
   "outputs": [
    {
     "data": {
      "text/plain": [
       "True"
      ]
     },
     "execution_count": 7,
     "metadata": {},
     "output_type": "execute_result"
    }
   ],
   "source": [
    "b.size == a.size"
   ]
  },
  {
   "cell_type": "markdown",
   "id": "d65be036",
   "metadata": {},
   "source": [
    "\n",
    "# 8. Are you able to add a and b? Why or why not?"
   ]
  },
  {
   "cell_type": "code",
   "execution_count": 8,
   "id": "f3a6b1d3",
   "metadata": {},
   "outputs": [],
   "source": [
    "# No se pueden sumar porque su shape no es la misma."
   ]
  },
  {
   "cell_type": "markdown",
   "id": "963109b3",
   "metadata": {},
   "source": [
    "# 9. Transpose b so that it has the same structure of a (i.e. become a 2x3x5 array). Assign the transposed array to varialbe \"c\"."
   ]
  },
  {
   "cell_type": "code",
   "execution_count": 9,
   "id": "9d7fc7fc",
   "metadata": {},
   "outputs": [
    {
     "data": {
      "text/plain": [
       "array([[[1., 1., 1., 1., 1.],\n",
       "        [1., 1., 1., 1., 1.],\n",
       "        [1., 1., 1., 1., 1.]],\n",
       "\n",
       "       [[1., 1., 1., 1., 1.],\n",
       "        [1., 1., 1., 1., 1.],\n",
       "        [1., 1., 1., 1., 1.]]])"
      ]
     },
     "execution_count": 9,
     "metadata": {},
     "output_type": "execute_result"
    }
   ],
   "source": [
    "c = b.transpose ((1, 2, 0))\n",
    "c"
   ]
  },
  {
   "cell_type": "markdown",
   "id": "005b3319",
   "metadata": {},
   "source": [
    "# 10. Try to add a and c. Now it should work. Assign the sum to varialbe \"d\". But why does it work now?\n"
   ]
  },
  {
   "cell_type": "code",
   "execution_count": 10,
   "id": "55c54504",
   "metadata": {},
   "outputs": [
    {
     "data": {
      "text/plain": [
       "array([[[1.78754251, 1.73500811, 1.49297638, 1.59210843, 1.48785049],\n",
       "        [1.45336241, 1.19366173, 1.99133695, 1.479313  , 1.35565686],\n",
       "        [1.65034137, 1.16156531, 1.02987792, 1.06489909, 1.8948922 ]],\n",
       "\n",
       "       [[1.81447173, 1.07809962, 1.47053149, 1.73259234, 1.90151888],\n",
       "        [1.21957248, 1.13851765, 1.71197649, 1.87938879, 1.03038052],\n",
       "        [1.07135804, 1.96312277, 1.39457378, 1.01484534, 1.08212302]]])"
      ]
     },
     "execution_count": 10,
     "metadata": {},
     "output_type": "execute_result"
    }
   ],
   "source": [
    "d = a + c\n",
    "d"
   ]
  },
  {
   "cell_type": "markdown",
   "id": "be10dc9d",
   "metadata": {},
   "source": [
    "# 11. Print a and d. Notice the difference and relation of the two array in terms of the values? Explain."
   ]
  },
  {
   "cell_type": "code",
   "execution_count": 11,
   "id": "f1f19e1b",
   "metadata": {},
   "outputs": [
    {
     "name": "stdout",
     "output_type": "stream",
     "text": [
      "[[[0.78754251 0.73500811 0.49297638 0.59210843 0.48785049]\n",
      "  [0.45336241 0.19366173 0.99133695 0.479313   0.35565686]\n",
      "  [0.65034137 0.16156531 0.02987792 0.06489909 0.8948922 ]]\n",
      "\n",
      " [[0.81447173 0.07809962 0.47053149 0.73259234 0.90151888]\n",
      "  [0.21957248 0.13851765 0.71197649 0.87938879 0.03038052]\n",
      "  [0.07135804 0.96312277 0.39457378 0.01484534 0.08212302]]]\n",
      "[[[1.78754251 1.73500811 1.49297638 1.59210843 1.48785049]\n",
      "  [1.45336241 1.19366173 1.99133695 1.479313   1.35565686]\n",
      "  [1.65034137 1.16156531 1.02987792 1.06489909 1.8948922 ]]\n",
      "\n",
      " [[1.81447173 1.07809962 1.47053149 1.73259234 1.90151888]\n",
      "  [1.21957248 1.13851765 1.71197649 1.87938879 1.03038052]\n",
      "  [1.07135804 1.96312277 1.39457378 1.01484534 1.08212302]]]\n"
     ]
    }
   ],
   "source": [
    "print(a)\n",
    "print(d)\n",
    "\n",
    "# A la segunda matriz se le incrementa cada elemento en 1"
   ]
  },
  {
   "cell_type": "markdown",
   "id": "2ba25dce",
   "metadata": {},
   "source": [
    "# 12. Multiply a and c. Assign the result to e."
   ]
  },
  {
   "cell_type": "code",
   "execution_count": 12,
   "id": "7729a6b0",
   "metadata": {},
   "outputs": [
    {
     "data": {
      "text/plain": [
       "array([[[0.78754251, 0.73500811, 0.49297638, 0.59210843, 0.48785049],\n",
       "        [0.45336241, 0.19366173, 0.99133695, 0.479313  , 0.35565686],\n",
       "        [0.65034137, 0.16156531, 0.02987792, 0.06489909, 0.8948922 ]],\n",
       "\n",
       "       [[0.81447173, 0.07809962, 0.47053149, 0.73259234, 0.90151888],\n",
       "        [0.21957248, 0.13851765, 0.71197649, 0.87938879, 0.03038052],\n",
       "        [0.07135804, 0.96312277, 0.39457378, 0.01484534, 0.08212302]]])"
      ]
     },
     "execution_count": 12,
     "metadata": {},
     "output_type": "execute_result"
    }
   ],
   "source": [
    "e = a * c\n",
    "e"
   ]
  },
  {
   "cell_type": "markdown",
   "id": "a1478503",
   "metadata": {},
   "source": [
    "# 13. Does e equal to a? Why or why not?"
   ]
  },
  {
   "cell_type": "code",
   "execution_count": 13,
   "id": "0747b75a",
   "metadata": {},
   "outputs": [
    {
     "data": {
      "text/plain": [
       "array([[[ True,  True,  True,  True,  True],\n",
       "        [ True,  True,  True,  True,  True],\n",
       "        [ True,  True,  True,  True,  True]],\n",
       "\n",
       "       [[ True,  True,  True,  True,  True],\n",
       "        [ True,  True,  True,  True,  True],\n",
       "        [ True,  True,  True,  True,  True]]])"
      ]
     },
     "execution_count": 13,
     "metadata": {},
     "output_type": "execute_result"
    }
   ],
   "source": [
    "e == a # Porque se ha multiplicado por 1"
   ]
  },
  {
   "cell_type": "markdown",
   "id": "f03760b8",
   "metadata": {},
   "source": [
    "# 14. Identify the max, min, and mean values in d. Assign those values to variables \"d_max\", \"d_min\", and \"d_mean\""
   ]
  },
  {
   "cell_type": "code",
   "execution_count": 14,
   "id": "ec0d948b",
   "metadata": {},
   "outputs": [
    {
     "data": {
      "text/plain": [
       "1.9913369480648409"
      ]
     },
     "execution_count": 14,
     "metadata": {},
     "output_type": "execute_result"
    }
   ],
   "source": [
    "d_max = d.max()\n",
    "d_max"
   ]
  },
  {
   "cell_type": "code",
   "execution_count": 15,
   "id": "f7b65de8",
   "metadata": {},
   "outputs": [
    {
     "data": {
      "text/plain": [
       "1.014845342910288"
      ]
     },
     "execution_count": 15,
     "metadata": {},
     "output_type": "execute_result"
    }
   ],
   "source": [
    "d_min = d.min()\n",
    "d_min"
   ]
  },
  {
   "cell_type": "code",
   "execution_count": 16,
   "id": "9c3174f1",
   "metadata": {},
   "outputs": [
    {
     "data": {
      "text/plain": [
       "1.4624488573617211"
      ]
     },
     "execution_count": 16,
     "metadata": {},
     "output_type": "execute_result"
    }
   ],
   "source": [
    "d_mean = d.mean()\n",
    "d_mean"
   ]
  },
  {
   "cell_type": "markdown",
   "id": "44c255e1",
   "metadata": {},
   "source": [
    "# 15. Now we want to label the values in d. First create an empty array \"f\" with the same shape (i.e. 2x3x5) as d using `np.empty`."
   ]
  },
  {
   "cell_type": "code",
   "execution_count": 17,
   "id": "32b52ab2",
   "metadata": {},
   "outputs": [
    {
     "data": {
      "text/plain": [
       "array([[[0.78754251, 0.73500811, 0.49297638, 0.59210843, 0.48785049],\n",
       "        [0.45336241, 0.19366173, 0.99133695, 0.479313  , 0.35565686],\n",
       "        [0.65034137, 0.16156531, 0.02987792, 0.06489909, 0.8948922 ]],\n",
       "\n",
       "       [[0.81447173, 0.07809962, 0.47053149, 0.73259234, 0.90151888],\n",
       "        [0.21957248, 0.13851765, 0.71197649, 0.87938879, 0.03038052],\n",
       "        [0.07135804, 0.96312277, 0.39457378, 0.01484534, 0.08212302]]])"
      ]
     },
     "execution_count": 17,
     "metadata": {},
     "output_type": "execute_result"
    }
   ],
   "source": [
    "f = np.empty(d.shape)\n",
    "f"
   ]
  },
  {
   "cell_type": "markdown",
   "id": "ae09eea3",
   "metadata": {},
   "source": [
    "\n",
    "# 16. Populate the values in f. For each value in d, if it's larger than d_min but smaller than d_mean, assign 25 to the corresponding value in f.\n",
    "If a value in d is larger than d_mean but smaller than d_max, assign 75 to the corresponding value in f.\n",
    "If a value equals to d_mean, assign 50 to the corresponding value in f.\n",
    "Assign 0 to the corresponding value(s) in f for d_min in d.\n",
    "Assign 100 to the corresponding value(s) in f for d_max in d.\n",
    "In the end, f should have only the following values: 0, 25, 50, 75, and 100.\n",
    "Note: you don't have to use Numpy in this question.\n",
    "\n",
    "\n"
   ]
  },
  {
   "cell_type": "code",
   "execution_count": 18,
   "id": "b06e92ed",
   "metadata": {},
   "outputs": [],
   "source": [
    "for i in range(2):\n",
    "    for x in range(3):\n",
    "        for y in range(5):\n",
    "            if d[i][x][y] > d_min and d[i][x][y] < d_mean:\n",
    "                f[i][x][y] = 25\n",
    "            elif d[i][x][y] > d_mean and d[i][x][y] < d_max:\n",
    "                f[i][x][y] = 75\n",
    "            elif d[i][x][y] == d_mean:\n",
    "                f[i][x][y] = 50\n",
    "            elif d[i][x][y] == d_min:\n",
    "                f[i][x][y] = 0\n",
    "            elif d[i][x][y] == d_max:\n",
    "                f[i][x][y] = 100\n",
    "\n",
    "\n",
    "\n",
    "\n"
   ]
  },
  {
   "cell_type": "markdown",
   "id": "91ca892c",
   "metadata": {},
   "source": [
    "# 17. Print d and f. Do you have your expected f?\n",
    "For instance, if your d is:\n",
    "array([[[1.85836099, 1.67064465, 1.62576044, 1.40243961, 1.88454931],\n",
    "        [1.75354326, 1.69403643, 1.36729252, 1.61415071, 1.12104981],\n",
    "        [1.72201435, 1.1862918 , 1.87078449, 1.7726778 , 1.88180042]],\n",
    "\n",
    "       [[1.44747908, 1.31673383, 1.02000951, 1.52218947, 1.97066381],\n",
    "        [1.79129243, 1.74983003, 1.96028037, 1.85166831, 1.65450881],\n",
    "        [1.18068344, 1.9587381 , 1.00656599, 1.93402165, 1.73514584]]])\n",
    "\n",
    "Your f should be:\n",
    "array([[[ 75.,  75.,  75.,  25.,  75.],\n",
    "        [ 75.,  75.,  25.,  25.,  25.],\n",
    "        [ 75.,  25.,  75.,  75.,  75.]],\n",
    "\n",
    "       [[ 25.,  25.,  25.,  25., 100.],\n",
    "        [ 75.,  75.,  75.,  75.,  75.],\n",
    "        [ 25.,  75.,   0.,  75.,  75.]]])\n",
    "\"\"\""
   ]
  },
  {
   "cell_type": "code",
   "execution_count": 19,
   "id": "ffa62191",
   "metadata": {
    "scrolled": true
   },
   "outputs": [
    {
     "name": "stdout",
     "output_type": "stream",
     "text": [
      "[[[1.78754251 1.73500811 1.49297638 1.59210843 1.48785049]\n",
      "  [1.45336241 1.19366173 1.99133695 1.479313   1.35565686]\n",
      "  [1.65034137 1.16156531 1.02987792 1.06489909 1.8948922 ]]\n",
      "\n",
      " [[1.81447173 1.07809962 1.47053149 1.73259234 1.90151888]\n",
      "  [1.21957248 1.13851765 1.71197649 1.87938879 1.03038052]\n",
      "  [1.07135804 1.96312277 1.39457378 1.01484534 1.08212302]]]\n",
      "[[[ 75.  75.  75.  75.  75.]\n",
      "  [ 25.  25. 100.  75.  25.]\n",
      "  [ 75.  25.  25.  25.  75.]]\n",
      "\n",
      " [[ 75.  25.  75.  75.  75.]\n",
      "  [ 25.  25.  75.  75.  25.]\n",
      "  [ 25.  75.  25.   0.  25.]]]\n"
     ]
    }
   ],
   "source": [
    "print(d)\n",
    "print(f)"
   ]
  },
  {
   "cell_type": "markdown",
   "id": "590e2a16",
   "metadata": {},
   "source": [
    "\n",
    "## 18. Bonus question: instead of using numbers (i.e. 0, 25, 50, 75, and 100), how to use string values \n",
    "\n",
    "(\"A\", \"B\", \"C\", \"D\", and \"E\") to label the array elements? You are expecting the result to be:\n",
    "array([[[ 'D',  'D',  'D',  'B',  'D'],\n",
    "        [ 'D',  'D',  'B',  'B',  'B'],\n",
    "        [ 'D',  'B',  'D',  'D',  'D']],\n",
    "\n",
    "       [[ 'B',  'B',  'B',  'B',  'E'],\n",
    "        [ 'D',  'D',  'D',  'D',  'D'],\n",
    "        [ 'B',  'D',   'A',  'D', 'D']]])\n",
    "Again, you don't need Numpy in this question.\n"
   ]
  },
  {
   "cell_type": "code",
   "execution_count": 22,
   "id": "105e2ce1",
   "metadata": {},
   "outputs": [
    {
     "ename": "TypeError",
     "evalue": "unhashable type: 'numpy.ndarray'",
     "output_type": "error",
     "traceback": [
      "\u001b[0;31m---------------------------------------------------------------------------\u001b[0m",
      "\u001b[0;31mTypeError\u001b[0m                                 Traceback (most recent call last)",
      "Cell \u001b[0;32mIn[22], line 12\u001b[0m\n\u001b[1;32m      9\u001b[0m nueva_matriz \u001b[38;5;241m=\u001b[39m []\n\u001b[1;32m     11\u001b[0m \u001b[38;5;28;01mfor\u001b[39;00m row \u001b[38;5;129;01min\u001b[39;00m f:\n\u001b[0;32m---> 12\u001b[0m     new_row \u001b[38;5;241m=\u001b[39m [new_values[value] \u001b[38;5;28;01mfor\u001b[39;00m value \u001b[38;5;129;01min\u001b[39;00m row]\n\u001b[1;32m     13\u001b[0m     nueva_matriz\u001b[38;5;241m.\u001b[39mappend(new_row)\n\u001b[1;32m     15\u001b[0m \u001b[38;5;28;01mfor\u001b[39;00m row \u001b[38;5;129;01min\u001b[39;00m nueva_matriz:\n",
      "Cell \u001b[0;32mIn[22], line 12\u001b[0m, in \u001b[0;36m<listcomp>\u001b[0;34m(.0)\u001b[0m\n\u001b[1;32m      9\u001b[0m nueva_matriz \u001b[38;5;241m=\u001b[39m []\n\u001b[1;32m     11\u001b[0m \u001b[38;5;28;01mfor\u001b[39;00m row \u001b[38;5;129;01min\u001b[39;00m f:\n\u001b[0;32m---> 12\u001b[0m     new_row \u001b[38;5;241m=\u001b[39m [new_values[value] \u001b[38;5;28;01mfor\u001b[39;00m value \u001b[38;5;129;01min\u001b[39;00m row]\n\u001b[1;32m     13\u001b[0m     nueva_matriz\u001b[38;5;241m.\u001b[39mappend(new_row)\n\u001b[1;32m     15\u001b[0m \u001b[38;5;28;01mfor\u001b[39;00m row \u001b[38;5;129;01min\u001b[39;00m nueva_matriz:\n",
      "\u001b[0;31mTypeError\u001b[0m: unhashable type: 'numpy.ndarray'"
     ]
    }
   ],
   "source": [
    "new_values = {\n",
    "    0: \"A\",\n",
    "    25: \"B\",\n",
    "    50: \"C\",\n",
    "    75: \"D\",\n",
    "    100: \"E\"\n",
    "}\n",
    "\n",
    "nueva_matriz = []\n",
    "\n",
    "for row in f:\n",
    "    new_row = [new_values[value] for value in row]\n",
    "    nueva_matriz.append(new_row)\n",
    "\n",
    "for row in nueva_matriz:\n",
    "    print(row)"
   ]
  }
 ],
 "metadata": {
  "kernelspec": {
   "display_name": "Python 3 (ipykernel)",
   "language": "python",
   "name": "python3"
  },
  "language_info": {
   "codemirror_mode": {
    "name": "ipython",
    "version": 3
   },
   "file_extension": ".py",
   "mimetype": "text/x-python",
   "name": "python",
   "nbconvert_exporter": "python",
   "pygments_lexer": "ipython3",
   "version": "3.11.4"
  }
 },
 "nbformat": 4,
 "nbformat_minor": 5
}
